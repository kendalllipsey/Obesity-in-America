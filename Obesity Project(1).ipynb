{
 "cells": [
  {
   "cell_type": "markdown",
   "metadata": {},
   "source": [
    "Obesity Project:\n",
    "Kendall Lipsey, Kayla Kirk, Tanner Miles"
   ]
  },
  {
   "cell_type": "markdown",
   "metadata": {},
   "source": [
    "# Doing Imports (More later)"
   ]
  },
  {
   "cell_type": "code",
   "execution_count": null,
   "metadata": {},
   "outputs": [],
   "source": [
    "import pandas as pd\n",
    "import matplotlib.pyplot as plt\n",
    "pd.set_option('display.max_columns', 500)\n",
    "import numpy as np"
   ]
  },
  {
   "cell_type": "markdown",
   "metadata": {},
   "source": [
    "# Reading In Obesity CSV"
   ]
  },
  {
   "cell_type": "code",
   "execution_count": null,
   "metadata": {},
   "outputs": [],
   "source": [
    "# Location of obesity data file\n",
    "obese = pd.read_csv('./obesity_data.csv')\n",
    "statesll=pd.read_csv('./states.csv')\n",
    "#obese.info()\n",
    "#obese.head()"
   ]
  },
  {
   "cell_type": "markdown",
   "metadata": {},
   "source": [
    "# Pulling out usable Data\n"
   ]
  },
  {
   "cell_type": "code",
   "execution_count": null,
   "metadata": {},
   "outputs": [],
   "source": [
    "#Obesity rate for each state and year\n",
    "stateobese = obese[(obese['StratificationCategory1']=='Total') & (obese['Question']=='Percent of adults aged 18 years and older who have obesity')]\n",
    "\n",
    "#Overweight rate for each state and year\n",
    "stateoverweight = obese[(obese['StratificationCategory1']=='Total') & (obese['Question']=='Percent of adults aged 18 years and older who have an overweight classification')]\n",
    "\n",
    "#Obesity Rate for each age group for the US (average of all states)\n",
    "age18_24 = obese[(obese['StratificationID1']=='AGEYR1824')& (obese['Question']=='Percent of adults aged 18 years and older who have obesity') & (obese['LocationAbbr']=='US')]\n",
    "age25_34 = obese[(obese['StratificationCategory1']=='Age (years)') & (obese['StratificationID1']=='AGEYR2534')& (obese['Question']=='Percent of adults aged 18 years and older who have obesity') & (obese['LocationAbbr']=='US')]\n",
    "age35_44 = obese[(obese['StratificationCategory1']=='Age (years)') & (obese['StratificationID1']=='AGEYR3544')& (obese['Question']=='Percent of adults aged 18 years and older who have obesity') & (obese['LocationAbbr']=='US')]\n",
    "age45_54 = obese[(obese['StratificationCategory1']=='Age (years)') & (obese['StratificationID1']=='AGEYR4554')& (obese['Question']=='Percent of adults aged 18 years and older who have obesity') & (obese['LocationAbbr']=='US')]\n",
    "age55_64 = obese[(obese['StratificationCategory1']=='Age (years)') & (obese['StratificationID1']=='AGEYR5564')& (obese['Question']=='Percent of adults aged 18 years and older who have obesity') & (obese['LocationAbbr']=='US')]\n",
    "age64_plus = obese[(obese['StratificationCategory1']=='Age (years)') & (obese['StratificationID1']=='AGEYR65PLUS')& (obese['Question']=='Percent of adults aged 18 years and older who have obesity') & (obese['LocationAbbr']=='US')]\n"
   ]
  },
  {
   "cell_type": "markdown",
   "metadata": {},
   "source": [
    "## Pulling out More Data"
   ]
  },
  {
   "cell_type": "code",
   "execution_count": null,
   "metadata": {},
   "outputs": [],
   "source": [
    "#Obesity rate for US (average of all states) by year\n",
    "USobese=obese[(obese['LocationAbbr']=='US')&(obese['StratificationCategory1']=='Total') & (obese['Question']=='Percent of adults aged 18 years and older who have obesity')]\n",
    "\n",
    "#Overweight rate for for US (average of all states) by year\n",
    "overweight=obese[(obese['LocationAbbr']=='US')&(obese['StratificationCategory1']=='Total') & (obese['Question']=='Percent of adults aged 18 years and older who have an overweight classification')]\n",
    "\n",
    "#Obesity rate for males and females for US (average of all states) by year\n",
    "male=obese[(obese['StratificationID1']=='MALE')& (obese['Question']=='Percent of adults aged 18 years and older who have obesity') & (obese['LocationAbbr']=='US')]\n",
    "female=obese[(obese['StratificationID1']=='FEMALE')& (obese['Question']=='Percent of adults aged 18 years and older who have obesity') & (obese['LocationAbbr']=='US')]\n",
    "\n",
    "#Obesity rate for males and females for US (average of all states) for the year 2016\n",
    "male16=obese[(obese['YearEnd']==2016)&(obese['StratificationID1']=='MALE')& (obese['Question']=='Percent of adults aged 18 years and older who have obesity') & (obese['LocationAbbr']=='US')]\n",
    "female16=obese[(obese['YearEnd']==2016)&(obese['StratificationID1']=='FEMALE')& (obese['Question']=='Percent of adults aged 18 years and older who have obesity') & (obese['LocationAbbr']=='US')]\n",
    "\n",
    "#Obesity rate for US (average of all states) for year 2016\n",
    "USobese16=obese[(obese['YearEnd']==2016)&(obese['LocationAbbr']=='US')&(obese['StratificationCategory1']=='Total') & (obese['Question']=='Percent of adults aged 18 years and older who have obesity')]\n",
    "\n",
    "\n",
    "#Obesity rate for each state for males and females for the year 2016 (remove territories)\n",
    "femstates16=obese[(obese['YearEnd']==2016)&(obese['StratificationID1']=='FEMALE')& (obese['Question']=='Percent of adults aged 18 years and older who have obesity')&~(obese['LocationAbbr']=='US')&~(obese['LocationAbbr']=='GU')&~(obese['LocationAbbr']=='PR')&~(obese['LocationAbbr']=='DC')&~(obese['LocationAbbr']=='VI')]\n",
    "malestates16=obese[(obese['YearEnd']==2016)&(obese['StratificationID1']=='MALE')& (obese['Question']=='Percent of adults aged 18 years and older who have obesity')&~(obese['LocationAbbr']=='US')&~(obese['LocationAbbr']=='GU')&~(obese['LocationAbbr']=='PR')&~(obese['LocationAbbr']=='DC')&~(obese['LocationAbbr']=='VI')]\n",
    "\n",
    "#Obesity rate for each state for each age group for the year 2016 (remove territories)\n",
    "states16_age18_24=obese[(obese['YearEnd']==2016)&(obese['StratificationID1']=='AGEYR1824')& (obese['Question']=='Percent of adults aged 18 years and older who have obesity') &~(obese['LocationAbbr']=='US')&~(obese['LocationAbbr']=='GU')&~(obese['LocationAbbr']=='PR')&~(obese['LocationAbbr']=='DC')&~(obese['LocationAbbr']=='VI')]\n",
    "states16_age25_34=obese[(obese['YearEnd']==2016)&(obese['StratificationCategory1']=='Age (years)') & (obese['StratificationID1']=='AGEYR2534')& (obese['Question']=='Percent of adults aged 18 years and older who have obesity') &~(obese['LocationAbbr']=='US')&~(obese['LocationAbbr']=='GU')&~(obese['LocationAbbr']=='PR')&~(obese['LocationAbbr']=='DC')&~(obese['LocationAbbr']=='VI')]\n",
    "states16_age35_44=obese[(obese['YearEnd']==2016)&(obese['StratificationCategory1']=='Age (years)') & (obese['StratificationID1']=='AGEYR3544')& (obese['Question']=='Percent of adults aged 18 years and older who have obesity') &~(obese['LocationAbbr']=='US')&~(obese['LocationAbbr']=='GU')&~(obese['LocationAbbr']=='PR')&~(obese['LocationAbbr']=='DC')&~(obese['LocationAbbr']=='VI')]\n",
    "states16_age45_54=obese[(obese['YearEnd']==2016)&(obese['StratificationCategory1']=='Age (years)') & (obese['StratificationID1']=='AGEYR4554')& (obese['Question']=='Percent of adults aged 18 years and older who have obesity') &~(obese['LocationAbbr']=='US')&~(obese['LocationAbbr']=='GU')&~(obese['LocationAbbr']=='PR')&~(obese['LocationAbbr']=='DC')&~(obese['LocationAbbr']=='VI')]\n",
    "states16_age55_64=obese[(obese['YearEnd']==2016)&(obese['StratificationCategory1']=='Age (years)') & (obese['StratificationID1']=='AGEYR5564')& (obese['Question']=='Percent of adults aged 18 years and older who have obesity') &~(obese['LocationAbbr']=='US')&~(obese['LocationAbbr']=='GU')&~(obese['LocationAbbr']=='PR')&~(obese['LocationAbbr']=='DC')&~(obese['LocationAbbr']=='VI') ]\n",
    "states16_age64_plus=obese[(obese['YearEnd']==2016)&(obese['StratificationCategory1']=='Age (years)') & (obese['StratificationID1']=='AGEYR65PLUS')& (obese['Question']=='Percent of adults aged 18 years and older who have obesity') &~(obese['LocationAbbr']=='US')&~(obese['LocationAbbr']=='GU')&~(obese['LocationAbbr']=='PR')&~(obese['LocationAbbr']=='DC')&~(obese['LocationAbbr']=='VI')]\n"
   ]
  },
  {
   "cell_type": "markdown",
   "metadata": {},
   "source": [
    "## Races\n"
   ]
  },
  {
   "cell_type": "code",
   "execution_count": null,
   "metadata": {},
   "outputs": [],
   "source": [
    "#Obesity rate for each race for year 2016 US (average states)\n",
    "white=obese[(obese['YearEnd']==2016)&(obese['Stratification1']=='Non-Hispanic White')& (obese['Question']=='Percent of adults aged 18 years and older who have obesity') & (obese['LocationAbbr']=='US')]\n",
    "black=obese[(obese['YearEnd']==2016)&(obese['Stratification1']=='Non-Hispanic Black')& (obese['Question']=='Percent of adults aged 18 years and older who have obesity') & (obese['LocationAbbr']=='US')]\n",
    "hispanic=obese[(obese['YearEnd']==2016)&(obese['Stratification1']=='Hispanic')& (obese['Question']=='Percent of adults aged 18 years and older who have obesity') & (obese['LocationAbbr']=='US')]\n",
    "asian=obese[(obese['YearEnd']==2016)&(obese['Stratification1']=='Asian')& (obese['Question']=='Percent of adults aged 18 years and older who have obesity') & (obese['LocationAbbr']=='US')]\n",
    "hawaiian=obese[(obese['YearEnd']==2016)&(obese['Stratification1']=='Hawaiian/Pacific Islander')& (obese['Question']=='Percent of adults aged 18 years and older who have obesity') & (obese['LocationAbbr']=='US')]\n",
    "native=obese[(obese['YearEnd']==2016)&(obese['Stratification1']=='American Indian/Alaska Native')& (obese['Question']=='Percent of adults aged 18 years and older who have obesity') & (obese['LocationAbbr']=='US')]\n",
    "mixed=obese[(obese['YearEnd']==2016)&(obese['Stratification1']=='2 or more races')& (obese['Question']=='Percent of adults aged 18 years and older who have obesity') & (obese['LocationAbbr']=='US')]\n",
    "\n",
    "#USA average (average of states) of obesity in 2016 listed for each racial group\n",
    "r = obese[(obese['Question']=='Percent of adults aged 18 years and older who have obesity')&(obese['StratificationCategory1']=='Race/Ethnicity') & (obese['YearEnd']==2016)& (obese['LocationAbbr']=='US')]\n"
   ]
  },
  {
   "cell_type": "markdown",
   "metadata": {},
   "source": [
    "## Getting Some numbers"
   ]
  },
  {
   "cell_type": "code",
   "execution_count": null,
   "metadata": {},
   "outputs": [],
   "source": [
    "#USA average (average of states) of obesity in 2016 listed for each age group\n",
    "m = obese[(obese['Question']=='Percent of adults aged 18 years and older who have obesity')&(obese['StratificationCategory1']=='Age (years)') & (obese['YearEnd']==2016)& (obese['LocationAbbr']=='US')]\n",
    "\n",
    "#18-24: 17.3%\n",
    "#25-34: 27.2%\n",
    "#35-44: 33.1%\n",
    "#45-54: 35.1%\n",
    "#55-64: 34.2%\n",
    "#64+:   28%"
   ]
  },
  {
   "cell_type": "markdown",
   "metadata": {},
   "source": [
    "## Graphing Age Groups and Writing User Defined Functions"
   ]
  },
  {
   "cell_type": "code",
   "execution_count": null,
   "metadata": {},
   "outputs": [],
   "source": [
    "#Define figure\n",
    "fig, ax = plt.subplots()\n",
    "\n",
    "#Make bar chart from m: age stratifications \n",
    "rects1 = ax.bar(m.Stratification1,m.PCT_obs, width)\n",
    "\n",
    "#Set Y axis\n",
    "plt.yticks(np.arange(0, 50, 5))\n",
    "\n",
    "#Define width\n",
    "width = .7\n",
    "\n",
    "\n",
    "#User-defined-function \n",
    "def autolabel(rects):\n",
    "    \"\"\"\n",
    "    Attach a text label above each bar displaying its height\n",
    "    \"\"\"\n",
    "    for rect in rects:\n",
    "        #Get height\n",
    "        height = rect.get_height()\n",
    "        \n",
    "        #Add value on top of each bar (above height), change to one decimal place\n",
    "        ax.text(rect.get_x() + rect.get_width()/2., 1.05*height,\n",
    "                '%.1f' % float(height),\n",
    "        ha='center', va='bottom')\n",
    "autolabel(rects1)\n",
    "\n",
    "\n",
    "#Set x axis Label\n",
    "plt.xlabel('Age',fontsize=16)\n",
    "\n",
    "#Set y axis label\n",
    "plt.ylabel('Percent of US Citizens',fontsize=16)\n",
    "\n",
    "#Set title \n",
    "plt.title('Obesity of Age Groups', fontsize=18)\n",
    "\n"
   ]
  },
  {
   "cell_type": "markdown",
   "metadata": {},
   "source": [
    "# GRAPHS!"
   ]
  },
  {
   "cell_type": "code",
   "execution_count": null,
   "metadata": {},
   "outputs": [],
   "source": [
    "#get the top five states/values of each age bracket by sorting them and calling head 5\n",
    "#Set to descending by acending=False\n",
    "\n",
    "top5_18_24=states16_age18_24.sort_values('PCT_obs',ascending=False).head(5)\n",
    "top5_25_34=states16_age25_34.sort_values('PCT_obs',ascending=False).head(5)\n",
    "top5_35_44=states16_age35_44.sort_values('PCT_obs',ascending=False).head(5)\n",
    "top5_45_54=states16_age45_54.sort_values('PCT_obs',ascending=False).head(5)\n",
    "top5_55_64=states16_age55_64.sort_values('PCT_obs',ascending=False).head(5)\n",
    "top5_64plus=states16_age64_plus.sort_values('PCT_obs',ascending=False).head(5)\n",
    "\n",
    "#get the lowest five states/values of each age bracket by sorting them and calling tail 5\n",
    "#Set to descending by acending=False\n",
    "low5_18_24=states16_age18_24.sort_values('PCT_obs',ascending=False).tail(5)\n",
    "low5_25_34=states16_age25_34.sort_values('PCT_obs',ascending=False).tail(5)\n",
    "low5_35_44=states16_age35_44.sort_values('PCT_obs',ascending=False).tail(5)\n",
    "low5_45_54=states16_age45_54.sort_values('PCT_obs',ascending=False).tail(5)\n",
    "low5_55_64=states16_age55_64.sort_values('PCT_obs',ascending=False).tail(5)\n",
    "low5_64plus=states16_age64_plus.sort_values('PCT_obs',ascending=False).tail(5)\n"
   ]
  },
  {
   "cell_type": "markdown",
   "metadata": {},
   "source": [
    "## Making US Average Obesity over Time"
   ]
  },
  {
   "cell_type": "code",
   "execution_count": null,
   "metadata": {
    "scrolled": true
   },
   "outputs": [],
   "source": [
    "#Set Figure size\n",
    "plt.figure(figsize=(10,4))\n",
    "\n",
    "#define width to use later\n",
    "width=.5\n",
    "\n",
    "#make a bar chart with year on x axis, obesity on y axis, width for width\n",
    "plt.bar(USobese.YearEnd,USobese.PCT_obs, width)\n",
    "\n",
    "#Define y axis ticks\n",
    "axes = plt.gca()\n",
    "axes.set_ylim([27,30])\n",
    "\n",
    "#Set x axis label\n",
    "plt.xlabel('Year',fontsize=16)\n",
    "\n",
    "#Set y axis label\n",
    "plt.ylabel('Percent of US Citizens',fontsize=16)\n",
    "\n",
    "#Set Title\n",
    "plt.title('Obesity over Time', fontsize=18)"
   ]
  },
  {
   "cell_type": "markdown",
   "metadata": {},
   "source": [
    "## Making US Average Overweight over TIme"
   ]
  },
  {
   "cell_type": "code",
   "execution_count": null,
   "metadata": {},
   "outputs": [],
   "source": [
    "#Set figure size\n",
    "plt.figure(figsize=(10,4))\n",
    "\n",
    "#define changeable width to use later\n",
    "width=.5\n",
    "\n",
    "#make bar chart with year on x axis, overweight on y axis, width for width\n",
    "plt.bar(overweight.YearEnd,overweight.PCT_obs, width)\n",
    "\n",
    "#set y axis ticks\n",
    "axes = plt.gca()\n",
    "axes.set_ylim([35,36])\n",
    "\n",
    "#Set x axis label\n",
    "plt.xlabel('Year',fontsize=16)\n",
    "\n",
    "#Set y axis label\n",
    "plt.ylabel('Percent of US Citizens',fontsize=16)\n",
    "\n",
    "#Set title \n",
    "plt.title('Overweight over Time',fontsize=18)"
   ]
  },
  {
   "cell_type": "markdown",
   "metadata": {},
   "source": [
    "## Putting the Two Together"
   ]
  },
  {
   "cell_type": "code",
   "execution_count": null,
   "metadata": {},
   "outputs": [],
   "source": [
    "#Set figure size\n",
    "plt.figure(figsize=(10,6))\n",
    "\n",
    "#Define changeable width to use later\n",
    "width=.4\n",
    "\n",
    "#Make bar chart with year on x axis, add .5*width to move each bar to right (to avoid overlap)\n",
    "    #set obesity as y axis, call width, label 'Obese' for use in legend \n",
    "plt.bar(USobese.YearEnd-.5*width,USobese.PCT_obs,width, label='Obese')\n",
    "\n",
    "#Make bar chart with year on x axis, subtract .5*width to move each bar to left (to avoid overlap)\n",
    "    #set obesity as y axis, call width, label 'Overweight' for use in legend \n",
    "plt.bar(overweight.YearEnd+.5*width,overweight.PCT_obs,width, label='Overweight')\n",
    "\n",
    "#Set y axis ticks\n",
    "axes = plt.gca()\n",
    "axes.set_ylim([26,37])\n",
    "\n",
    "#Set x axis label\n",
    "plt.xlabel('Year',fontsize=14)\n",
    "\n",
    "#Set y axis label\n",
    "plt.ylabel('Percent of US Citizens',fontsize=14)\n",
    "\n",
    "#Set title \n",
    "plt.title('Obesity and Overweight over Time', fontsize=22)\n",
    "\n",
    "\n",
    "#Set legend location and number of columns \n",
    "plt.legend(loc='upper right',ncol=2)"
   ]
  },
  {
   "cell_type": "markdown",
   "metadata": {},
   "source": [
    "## Obesity Age Groups "
   ]
  },
  {
   "cell_type": "code",
   "execution_count": null,
   "metadata": {},
   "outputs": [],
   "source": [
    "#set figure size\n",
    "plt.figure(figsize=(15,10))\n",
    "\n",
    "#set changeable width to use later\n",
    "width=.12\n",
    "\n",
    "#Bar chart, year as x axis subtract 2*width to avoid overlap, y axis obesity, call width, and label for legend\n",
    "plt.bar(age18_24.YearEnd-2*width,age18_24.PCT_obs,width, label='18 to 24')\n",
    "\n",
    "#Bar chart, year as x axis subtract 1*width to avoid overlap, y axis obesity, call width, and label for legend\n",
    "plt.bar(age25_34.YearEnd-width,age25_34.PCT_obs,width, label='25 to 34')\n",
    "\n",
    "#Bar chart, year as x axis, y axis obesity, call width, and label for legend\n",
    "plt.bar(age35_44.YearEnd,age35_44.PCT_obs,width, label='35 to 44')\n",
    "\n",
    "#Bar chart, year as x axis add 1*width to avoid overlap, y axis obesity, call width, and label for legend\n",
    "plt.bar(age45_54.YearEnd+width,age45_54.PCT_obs,width, label='45 to 54')\n",
    "\n",
    "#Bar chart, year as x axis add 2*width to avoid overlap, y axis obesity, call width, and label for legend\n",
    "plt.bar(age55_64.YearEnd+2*width,age55_64.PCT_obs,width, label='55 to 64')\n",
    "\n",
    "#Bar chart, year as x axis add 3*width to avoid overlap, y axis obesity, call width, and label for legend\n",
    "plt.bar(age64_plus.YearEnd+3*width,age64_plus.PCT_obs,width, label='64 and over')\n",
    "\n",
    "#Set x axis label\n",
    "plt.xlabel('Year',fontsize=20)\n",
    "\n",
    "#Set y axis label\n",
    "plt.ylabel('Percent of obese US Citizens',fontsize=20)\n",
    "\n",
    "#set title\n",
    "plt.title('Obesity of Age Groups over Time',fontsize=24)\n",
    "\n",
    "#Set y axis ticks- 0 to 40 by 5\n",
    "plt.yticks(np.arange(0, 41, 5))\n",
    "\n",
    "#call legend and set location and number of columns \n",
    "plt.legend(loc='upper right',ncol=2)\n"
   ]
  },
  {
   "cell_type": "code",
   "execution_count": null,
   "metadata": {},
   "outputs": [],
   "source": [
    "#Set figure size\n",
    "plt.figure(figsize=(12,10))\n",
    "\n",
    "#line plot, year as x axis, obesity as y axis, label for legend, linewidth \n",
    "plt.plot(age18_24.YearEnd,age18_24.PCT_obs, label='18 to 24', linewidth=2)\n",
    "\n",
    "#line plot, year as x axis, obesity as y axis, label for legend, linewidth \n",
    "plt.plot(age25_34.YearEnd,age25_34.PCT_obs, label='25 to 34', linewidth=2)\n",
    "\n",
    "#line plot, year as x axis, obesity as y axis, label for legend, linewidth \n",
    "plt.plot(age35_44.YearEnd,age35_44.PCT_obs, label='35 to 44', linewidth=2)\n",
    "\n",
    "#line plot, year as x axis, obesity as y axis, label for legend, linewidth \n",
    "plt.plot(age45_54.YearEnd,age45_54.PCT_obs, label='45 to 54', linewidth=2)\n",
    "\n",
    "#line plot, year as x axis, obesity as y axis, label for legend, linewidth \n",
    "plt.plot(age55_64.YearEnd,age55_64.PCT_obs, label='55 to 64', linewidth=2)\n",
    "\n",
    "#line plot, year as x axis, obesity as y axis, label for legend, linewidth \n",
    "plt.plot(age64_plus.YearEnd,age64_plus.PCT_obs, label='64 and over', linewidth=2)\n",
    "\n",
    "#Set x axis label\n",
    "plt.xlabel('Year',fontsize=20)\n",
    "\n",
    "#Set y axis label\n",
    "plt.ylabel('Percent of obese US Citizens',fontsize=20)\n",
    "\n",
    "#Set title\n",
    "plt.title('Obesity of Age Groups over Time',fontsize=24)\n",
    "\n",
    "\n",
    "#Set y axis tick markes- starting at 10 ending at 40 by 5\n",
    "plt.yticks(np.arange(10, 41, 5))\n",
    "\n",
    "#Set Legend location and number of columns \n",
    "plt.legend(loc='upper right',ncol=2)\n",
    "\n",
    "\n",
    "#I like this one better than the multiple bar charts above, will Use this"
   ]
  },
  {
   "cell_type": "code",
   "execution_count": null,
   "metadata": {},
   "outputs": [],
   "source": [
    "#set figure and \n",
    "xfig, ax = plt.subplots(figsize=(10,8))\n",
    "rects1 = ax.bar(m.Stratification1,m.PCT_obs)\n",
    "\n",
    "#set the colors to match the colors of the line chart for continuity\n",
    "rects1[1].set_color('darkorange')\n",
    "rects1[2].set_color('green')\n",
    "rects1[3].set_color('r')\n",
    "rects1[4].set_color('purple')\n",
    "rects1[5].set_color('maroon')\n",
    "\n",
    "plt.yticks(np.arange(0, 50, 5))\n",
    "\n",
    "def autolabel(rects):\n",
    "    \"\"\"\n",
    "    Attach a text label above each bar displaying its height\n",
    "    \"\"\"\n",
    "    for rect in rects:\n",
    "        height = rect.get_height()\n",
    "        #change the float to only have one character after the decimal \n",
    "        ax.text(rect.get_x() + rect.get_width()/2., 1.05*height,\n",
    "                '%.1f' % float(height),\n",
    "        ha='center', va='bottom')\n",
    "autolabel(rects1)\n",
    "\n",
    "#Label the Graph\n",
    "plt.xlabel('Age',fontsize=16)\n",
    "plt.ylabel('Percent of US Citizens',fontsize=16)\n",
    "plt.title('Obesity of Age Groups', fontsize=18)\n"
   ]
  },
  {
   "cell_type": "markdown",
   "metadata": {},
   "source": [
    "## Obesity Gender"
   ]
  },
  {
   "cell_type": "code",
   "execution_count": null,
   "metadata": {},
   "outputs": [],
   "source": [
    "#Set the figure size\n",
    "plt.figure(figsize=(15,8))\n",
    "\n",
    "#define changeable width to use later\n",
    "width=.4\n",
    "\n",
    "#Move the male bars to the left, female to the right to avoid overlap\n",
    "plt.bar(male.YearEnd-.5*width,male.PCT_obs,width, label='Male')\n",
    "plt.bar(female.YearEnd+.5*width,female.PCT_obs,width, label='Female')\n",
    "axes = plt.gca()\n",
    "axes.set_ylim([27,30])\n",
    "\n",
    "#Label the Graph\n",
    "plt.xlabel('Year',fontsize=16)\n",
    "plt.ylabel('Percent of obese US Citizens',fontsize=16)\n",
    "plt.title('Obesity of Gender over Time',fontsize=18)\n",
    "\n",
    "#plt.yticks(np.arange(0, 36, 5))\n",
    "\n",
    "plt.legend(loc='upper right',ncol=2)"
   ]
  },
  {
   "cell_type": "markdown",
   "metadata": {},
   "source": [
    "## Bar Charts for top/bottom five of every age group. Didn't Use (Below).\n"
   ]
  },
  {
   "cell_type": "code",
   "execution_count": null,
   "metadata": {},
   "outputs": [],
   "source": [
    "'''\n",
    "#These were too much information. Going to make a scatter plot on the US map instead. \n",
    "\n",
    "plt.barh(top5_18_24.LocationAbbr, top5_18_24.PCT_obs)\n",
    "axes = plt.gca()\n",
    "axes.set_xlim([0,50])\n",
    "\n",
    "plt.xlabel('Percent Obese',fontsize=16)\n",
    "plt.ylabel('States',fontsize=16)\n",
    "plt.title('5 Highest Obesity States for 18 to 24 Year Olds',fontsize=18)\n",
    "plt.barh(low5_18_24.LocationAbbr, low5_18_24.PCT_obs)\n",
    "axes = plt.gca()\n",
    "axes.set_xlim([0,35])\n",
    "\n",
    "plt.xlabel('Percent Obese',fontsize=16)\n",
    "plt.ylabel('States',fontsize=16)\n",
    "plt.title('5 Lowest Obesity States for 18 to 24 Year Olds',fontsize=18)\n",
    "\n",
    "plt.barh(top5_25_34.LocationAbbr, top5_25_34.PCT_obs)\n",
    "axes = plt.gca()\n",
    "axes.set_xlim([0,50])\n",
    "\n",
    "plt.xlabel('Percent Obese',fontsize=16)\n",
    "plt.ylabel('States',fontsize=16)\n",
    "plt.title('5 Highest Obesity States for 25 to 34 Year Olds',fontsize=18)\n",
    "\n",
    "plt.barh(low5_25_34.LocationAbbr, low5_25_34.PCT_obs)\n",
    "axes = plt.gca()\n",
    "axes.set_xlim([0,35])\n",
    "\n",
    "plt.xlabel('Percent Obese',fontsize=16)\n",
    "plt.ylabel('States',fontsize=16)\n",
    "plt.title('5 Lowest Obesity States for 25 to 34 Year Olds',fontsize=18)\n",
    "\n",
    "plt.barh(top5_35_44.LocationAbbr, top5_35_44.PCT_obs)\n",
    "axes = plt.gca()\n",
    "axes.set_xlim([0,50])\n",
    "\n",
    "plt.xlabel('Percent Obese',fontsize=16)\n",
    "plt.ylabel('States',fontsize=16)\n",
    "plt.title('5 Highest Obesity States for 35 to 44 Year Olds',fontsize=18)\n",
    "\n",
    "plt.barh(low5_35_44.LocationAbbr, low5_35_44.PCT_obs)\n",
    "axes = plt.gca()\n",
    "axes.set_xlim([0,35])\n",
    "\n",
    "plt.xlabel('Percent Obese',fontsize=16)\n",
    "plt.ylabel('States',fontsize=16)\n",
    "plt.title('5 Lowest Obesity States for 35 to 44 Year Olds',fontsize=18)\n",
    "\n",
    "plt.barh(top5_45_54.LocationAbbr, top5_45_54.PCT_obs)\n",
    "axes = plt.gca()\n",
    "axes.set_xlim([0,50])\n",
    "\n",
    "plt.xlabel('Percent Obese',fontsize=16)\n",
    "plt.ylabel('States',fontsize=16)\n",
    "plt.title('5 Highest Obesity States for 45 to 54 Year Olds',fontsize=18)\n",
    "\n",
    "plt.barh(low5_45_54.LocationAbbr, low5_45_54.PCT_obs)\n",
    "axes = plt.gca()\n",
    "axes.set_xlim([0,35])\n",
    "\n",
    "plt.xlabel('Percent Obese',fontsize=16)\n",
    "plt.ylabel('States',fontsize=16)\n",
    "plt.title('5 Lowest Obesity States for 45 to 54 Year Olds',fontsize=18)\n",
    "\n",
    "plt.barh(top5_55_64.LocationAbbr, top5_55_64.PCT_obs)\n",
    "axes = plt.gca()\n",
    "axes.set_xlim([0,50])\n",
    "\n",
    "plt.xlabel('Percent Obese',fontsize=16)\n",
    "plt.ylabel('States',fontsize=16)\n",
    "plt.title('5 Highest Obesity States for 55 to 64 Year Olds',fontsize=18)\n",
    "'''"
   ]
  },
  {
   "cell_type": "markdown",
   "metadata": {},
   "source": [
    "## Pie Chart of Gender"
   ]
  },
  {
   "cell_type": "code",
   "execution_count": null,
   "metadata": {
    "scrolled": true
   },
   "outputs": [],
   "source": [
    "# Pie chart\n",
    "#create labels\n",
    "labels = ['Male','Female']\n",
    "\n",
    "#define sizes\n",
    "sizes = [29.6,29.5]\n",
    "\n",
    "#One point after the decimal point\n",
    "fig1, ax1 = plt.subplots()\n",
    "ax1.pie(sizes,  labels=labels, autopct='%1.1f%%',\n",
    "        shadow=True, startangle=90)# Equal aspect ratio ensures that pie is drawn as a circle\n",
    "\n",
    "ax1.axis('equal') \n",
    "plt.tight_layout()\n",
    "plt.title('2016 Obese Gender Distribution')\n",
    "plt.show()"
   ]
  },
  {
   "cell_type": "markdown",
   "metadata": {},
   "source": [
    "## Read in Breast-Feeding Data"
   ]
  },
  {
   "cell_type": "code",
   "execution_count": null,
   "metadata": {},
   "outputs": [],
   "source": [
    "\n",
    "bf = pd.read_csv('./bf11-16.csv')\n",
    "bfstates16=bf[~(bf['LocationAbbr']=='US')&~(bf['LocationAbbr']=='GU')&~(bf['LocationAbbr']=='PR')&~(bf['LocationAbbr']=='DC')&~(bf['LocationAbbr']=='VI')&(bf['YearEnd']==2016)]\n",
    "\n",
    "#Read in column as float, was reading as string/messing up graphs\n",
    "bfstates16['percent_bf']=bfstates16['percent_bf'].astype(float)\n"
   ]
  },
  {
   "cell_type": "code",
   "execution_count": null,
   "metadata": {},
   "outputs": [],
   "source": [
    "#remove the territories\n",
    "notus=obese[~(obese['LocationAbbr']=='US')&~(obese['LocationAbbr']=='GU')&~(obese['LocationAbbr']=='PR')&~(obese['LocationAbbr']=='DC')&~(obese['LocationAbbr']=='VI')]\n",
    "obese50_16=notus[(notus['YearEnd']==2016)&(notus['StratificationCategory1']=='Total') & (notus['Question']=='Percent of adults aged 18 years and older who have obesity')]\n",
    "\n",
    "#list alphabetically \n",
    "obese50_16_alph=obese50_16.sort_values('LocationAbbr', ascending=True)"
   ]
  },
  {
   "cell_type": "code",
   "execution_count": null,
   "metadata": {
    "scrolled": true
   },
   "outputs": [],
   "source": [
    "#Order the states on obesity rate- get top and bottom \n",
    "obese50_16_desc=obese50_16.sort_values('PCT_obs', ascending=False)\n",
    "obese50_16_asc=obese50_16.sort_values('PCT_obs', ascending=True)\n",
    "topten=obese50_16_asc.tail(10) #most obese to 10th most obese\n",
    "bottomten=obese50_16_asc.head(10) #10th least obese to the least obese\n"
   ]
  },
  {
   "cell_type": "markdown",
   "metadata": {},
   "source": [
    "## Make chart of 10 Highest Obesity States"
   ]
  },
  {
   "cell_type": "code",
   "execution_count": null,
   "metadata": {},
   "outputs": [],
   "source": [
    "plt.barh(topten.LocationAbbr, topten.PCT_obs)\n",
    "axes = plt.gca()\n",
    "axes.set_xlim([30,38])\n",
    "\n",
    "#Add Labels\n",
    "plt.xlabel('Percent Obese',fontsize=16)\n",
    "plt.ylabel('States',fontsize=16)\n",
    "plt.title('10 Highest Obesity States',fontsize=18)"
   ]
  },
  {
   "cell_type": "markdown",
   "metadata": {},
   "source": [
    "##  Make a chart of bottom ten states"
   ]
  },
  {
   "cell_type": "code",
   "execution_count": null,
   "metadata": {
    "scrolled": false
   },
   "outputs": [],
   "source": [
    "plt.barh(bottomten.LocationAbbr, bottomten.PCT_obs)\n",
    "axes = plt.gca()\n",
    "axes.set_xlim([20,28])\n",
    "\n",
    "#Add Lables\n",
    "plt.xlabel('Percent Obese',fontsize=16)\n",
    "plt.ylabel('States',fontsize=16)\n",
    "plt.title('10 Lowest Obesity States',fontsize=18)"
   ]
  },
  {
   "cell_type": "markdown",
   "metadata": {},
   "source": [
    "## Make a chart of the top and bottom ten states"
   ]
  },
  {
   "cell_type": "code",
   "execution_count": null,
   "metadata": {
    "scrolled": true
   },
   "outputs": [],
   "source": [
    "plt.barh(bottomten.LocationAbbr, bottomten.PCT_obs)\n",
    "plt.barh(topten.LocationAbbr, topten.PCT_obs)\n",
    "\n",
    "axes = plt.gca()\n",
    "axes.set_xlim([0,38])\n",
    "\n",
    "#Add Labels\n",
    "plt.xlabel('Percent Obese',fontsize=16)\n",
    "plt.ylabel('States',fontsize=16)\n",
    "plt.title('Highest and Lowest Obesity States',fontsize=18)\n",
    "\n",
    "#I like this one better- the top and bottom ten together rather than two separate charts. "
   ]
  },
  {
   "cell_type": "markdown",
   "metadata": {},
   "source": [
    "## Get data for genders, sort, get mail and female top/bottom five\n"
   ]
  },
  {
   "cell_type": "code",
   "execution_count": null,
   "metadata": {},
   "outputs": [],
   "source": [
    "#Get male and female states, order on obesity percentage\n",
    "malestates16_ordered = malestates16.sort_values('PCT_obs',ascending=False) #male states for 2016\n",
    "femstates16_ordered = femstates16.sort_values('PCT_obs',ascending=False)   #female states for 2016\n",
    "\n",
    "#Get the top five male and female states\n",
    "top5male = malestates16_ordered.head(5)\n",
    "top5female = femstates16_ordered.head(5)\n",
    "\n",
    "#Get the bottom five male and female states\n",
    "low5male=malestates16_ordered.tail(5)\n",
    "low5female=femstates16_ordered.tail(5)"
   ]
  },
  {
   "cell_type": "markdown",
   "metadata": {},
   "source": [
    "# Didn't end up using- below graphs of top/bottom 5 male/female"
   ]
  },
  {
   "cell_type": "code",
   "execution_count": null,
   "metadata": {},
   "outputs": [],
   "source": [
    "'''\n",
    "plt.barh(top5female.LocationAbbr, top5female.PCT_obs)\n",
    "axes = plt.gca()\n",
    "axes.set_xlim([0,45])\n",
    "\n",
    "plt.xlabel('Percent Obese',fontsize=16)\n",
    "plt.ylabel('States',fontsize=16)\n",
    "plt.title('5 Highest Female Obesity States',fontsize=18)\n",
    "\n",
    "##############################################\n",
    "\n",
    "plt.barh(top5male.LocationAbbr, top5male.PCT_obs)\n",
    "axes = plt.gca()\n",
    "axes.set_xlim([0,45])\n",
    "\n",
    "plt.xlabel('Percent Obese',fontsize=16)\n",
    "plt.ylabel('States',fontsize=16)\n",
    "plt.title('5 Highest Male Obesity States',fontsize=18)\n",
    "\n",
    "#######################################################\n",
    "\n",
    "plt.barh(low5female.LocationAbbr, low5female.PCT_obs)\n",
    "axes = plt.gca()\n",
    "axes.set_xlim([0,30])\n",
    "\n",
    "plt.xlabel('Percent Obese',fontsize=16)\n",
    "plt.ylabel('States',fontsize=16)\n",
    "plt.title('5 Lowest Female Obesity States',fontsize=18)\n",
    "\n",
    "#####################################################\n",
    "plt.barh(low5male.LocationAbbr, low5male.PCT_obs)\n",
    "axes = plt.gca()\n",
    "axes.set_xlim([0,30])\n",
    "\n",
    "plt.xlabel('Percent Obese',fontsize=16)\n",
    "plt.ylabel('States',fontsize=16)\n",
    "plt.title('5 Lowest Male Obesity States',fontsize=18)\n",
    "'''"
   ]
  },
  {
   "cell_type": "markdown",
   "metadata": {},
   "source": [
    "# Look for Trend between Breastfeeding and Obesity"
   ]
  },
  {
   "cell_type": "code",
   "execution_count": null,
   "metadata": {},
   "outputs": [],
   "source": [
    "\n",
    "plt.figure(figsize=(20,8))\n",
    "\n",
    "width=.3\n",
    "l=np.arange(50)\n",
    "\n",
    "#plt.bar(obese50_16_alph.LocationAbbr,obese50_16_alph.PCT_obs,width, label='Obese')\n",
    "plt.bar(l-.5*width,obese50_16_alph.PCT_obs,width, label='Obese')\n",
    "#plt.bar(bfstates16_alph.LocationAbbr,bfstates16_alph.percent_bf,width, label='Breast-fed')\n",
    "plt.bar(l+.5*width,bfstates16.percent_bf,width, label='Breast-fed')\n",
    "\n",
    "plt.xlabel('State',fontsize=20)\n",
    "plt.ylabel('Percent of US Citizens',fontsize=20)\n",
    "plt.title('Obesity and Breast Feeding',fontsize=26)\n",
    "\n",
    "plt.xticks(l,bfstates16.LocationAbbr)\n",
    "\n",
    "\n",
    "axes = plt.gca()\n",
    "axes.set_ylim([0,45])\n",
    "\n",
    "plt.legend(loc='upper right',ncol=2)\n",
    "\n",
    "#Don't like this graph- try line chart?"
   ]
  },
  {
   "cell_type": "markdown",
   "metadata": {},
   "source": [
    "# Line chart for Breastfeed and Obesity"
   ]
  },
  {
   "cell_type": "code",
   "execution_count": null,
   "metadata": {
    "scrolled": true
   },
   "outputs": [],
   "source": [
    "plt.figure(figsize=(20,8))\n",
    "\n",
    "l=np.arange(50)\n",
    "\n",
    "\n",
    "plt.plot(l,obese50_16_alph.PCT_obs, label='Obese')\n",
    "plt.plot(l,bfstates16.percent_bf, label='Breast-fed')\n",
    "\n",
    "\n",
    "plt.xlabel('State',fontsize=20)\n",
    "plt.ylabel('Percent of US Citizens',fontsize=20)\n",
    "plt.title('Obesity and Breast Feeding',fontsize=26)\n",
    "\n",
    "plt.xticks(l,bfstates16.LocationAbbr)\n",
    "\n",
    "axes = plt.gca()\n",
    "axes.set_ylim([15,45])\n",
    "\n",
    "plt.legend(loc='upper right',ncol=2)"
   ]
  },
  {
   "cell_type": "code",
   "execution_count": null,
   "metadata": {},
   "outputs": [],
   "source": [
    "plt.figure(figsize=(20,8))\n",
    "\n",
    "l=np.arange(50)\n",
    "\n",
    "plt.plot(l,obese50_16_alph.PCT_obs, label='Obese')\n",
    "plt.plot(l,bfstates16.percent_bf, label='Breast-fed')\n",
    "\n",
    "\n",
    "plt.xlabel('State',fontsize=20)\n",
    "plt.ylabel('Percent of US Citizens',fontsize=20)\n",
    "plt.title('Obesity and Breast Feeding',fontsize=26)\n",
    "\n",
    "plt.xticks(l,bfstates16.LocationAbbr)\n",
    "\n",
    "axes = plt.gca()\n",
    "axes.set_ylim([15,45])\n"
   ]
  },
  {
   "cell_type": "markdown",
   "metadata": {},
   "source": [
    "# Get Data for 1975 to 2016"
   ]
  },
  {
   "cell_type": "code",
   "execution_count": null,
   "metadata": {},
   "outputs": [],
   "source": [
    "USAobese = pd.read_csv('./USAobesetime.csv')\n",
    "#from https://ourworldindata.org/obesity\n",
    "USAobese = USAobese[(USAobese.Code=='USA')]\n",
    "USAobese.columns=['Entity', 'Code', 'Year', 'pctobese']\n",
    "\n",
    "#1975 11.9%\n",
    "#1993 20%\n",
    "#2007 30%\n",
    "#2016 36%"
   ]
  },
  {
   "cell_type": "markdown",
   "metadata": {},
   "source": [
    "## Plot Obesity over long period of Time\n"
   ]
  },
  {
   "cell_type": "code",
   "execution_count": null,
   "metadata": {},
   "outputs": [],
   "source": [
    "import seaborn as sns\n",
    "# This makes plots appear in the notebook\n",
    "%matplotlib inline\n",
    "\n",
    "# Plot yearly obesity\n",
    "fig, ax = plt.subplots(figsize=(20,10))\n",
    "ax.plot(USAobese.Year, USAobese.pctobese, label='Percentage of Population Obese')\n",
    "\n",
    "#Add X and Y Labels\n",
    "ax.set_xlabel('Year', fontsize=16)\n",
    "ax.set_ylabel('Percentage of US Population Obese',fontsize=16)\n",
    "\n",
    "#Didn't like this one, didn't use. "
   ]
  },
  {
   "cell_type": "code",
   "execution_count": null,
   "metadata": {},
   "outputs": [],
   "source": [
    "import seaborn as sns\n",
    "# This makes plots appear in the notebook\n",
    "%matplotlib inline\n",
    "\n",
    "plt.figure(figsize=(12,8))\n",
    "\n",
    "plt.plot(USAobese.Year, USAobese.pctobese, label='Percentage of Population Obese',linewidth=10,color='purple')\n",
    "\n",
    "plt.xlabel('Years 1975 to 2016',fontsize=16)\n",
    "plt.ylabel('Percent of US Citizens',fontsize=16)\n",
    "plt.title('Obesity Over Time',fontsize=18)\n",
    "\n",
    "axes = plt.gca()\n",
    "axes.set_ylim([11.5,37])\n",
    "\n",
    "plt.legend(loc='upper left',ncol=2)\n",
    "\n",
    "#don't like this one. Didn't use. "
   ]
  },
  {
   "cell_type": "code",
   "execution_count": null,
   "metadata": {},
   "outputs": [],
   "source": [
    "import seaborn as sns\n",
    "%matplotlib inline\n",
    "\n",
    "plt.figure(figsize=(12,8))\n",
    "\n",
    "plt.scatter(USAobese.Year, USAobese.pctobese, label='Percentage of Population Obese')\n",
    "\n",
    "plt.xlabel('Years 1975 to 2016',fontsize=16)\n",
    "plt.ylabel('Percent of US Citizens',fontsize=16)\n",
    "plt.title('Obesity Over Time',fontsize=18)\n",
    "\n",
    "axes = plt.gca()\n",
    "axes.set_ylim([11.5,37])\n",
    "\n",
    "plt.legend(loc='upper left',ncol=2)\n",
    "\n",
    "#Like this one the best"
   ]
  },
  {
   "cell_type": "markdown",
   "metadata": {},
   "source": [
    "## Get Data for Scatter/Bubble Plot"
   ]
  },
  {
   "cell_type": "code",
   "execution_count": null,
   "metadata": {},
   "outputs": [],
   "source": [
    "#Merge Obese dataframe to states11 to add latitude and longitude\n",
    "merged=pd.merge(obese,statesll)\n",
    "\n",
    "#pull the female,male obesity rates from merged dataset\n",
    "femstatesmerged=merged[(merged['YearEnd']==2016)&(merged['StratificationID1']=='FEMALE')& (merged['Question']=='Percent of adults aged 18 years and older who have obesity')&~(merged['LocationAbbr']=='US')&~(merged['LocationAbbr']=='GU')&~(merged['LocationAbbr']=='PR')&~(merged['LocationAbbr']=='DC')&~(merged['LocationAbbr']=='VI')]\n",
    "malestatesmerged=merged[(merged['YearEnd']==2016)&(merged['StratificationID1']=='MALE')& (merged['Question']=='Percent of adults aged 18 years and older who have obesity')&~(merged['LocationAbbr']=='US')&~(merged['LocationAbbr']=='GU')&~(merged['LocationAbbr']=='PR')&~(merged['LocationAbbr']=='DC')&~(merged['LocationAbbr']=='VI')]\n",
    "\n",
    "#sort the female,male datasets on obesity rate\n",
    "malestatesmerged_ordered=malestatesmerged.sort_values('PCT_obs',ascending=False)\n",
    "femstatesmerged_ordered=femstatesmerged.sort_values('PCT_obs',ascending=False)\n",
    "\n",
    "#get top 5/bottom 5 for males and females\n",
    "_top5male=malestatesmerged_ordered.head(5)\n",
    "_top5female=femstatesmerged_ordered.head(5)\n",
    "_low5male=malestatesmerged_ordered.tail(5)\n",
    "_low5female=femstatesmerged_ordered.tail(5)\n",
    "\n",
    "\n",
    "# Extract the data we're interested in: latitude, longitude, obesity \n",
    "#multiply by three to make circles bigger on plot \n",
    "tmlat, tmlon, tmobs = _top5male['latitude']-.1, _top5male['longitude'],_top5male['PCT_obs']*3\n",
    "bmlat, bmlon, bmobs = _low5male['latitude']-.5, _low5male['longitude'], _low5male['PCT_obs']*3\n",
    "\n",
    "#Scatter latitude and longitude to minimize overlap\n",
    "tflat, tflon,tfobs = _top5female['latitude']+.5, _top5female['longitude'],_top5female['PCT_obs']*3\n",
    "bflat, bflon, bfobs = _low5female['latitude'], _low5female['longitude'],_low5female['PCT_obs']*3"
   ]
  },
  {
   "cell_type": "markdown",
   "metadata": {},
   "source": [
    "# Make Bubble scatter on US"
   ]
  },
  {
   "cell_type": "code",
   "execution_count": null,
   "metadata": {
    "scrolled": true
   },
   "outputs": [],
   "source": [
    "#Do some imports\n",
    "import cartopy.crs as ccrs\n",
    "import matplotlib.pyplot as plt\n",
    "from cartopy.feature import NaturalEarthFeature, LAND, COASTLINE, BORDERS\n",
    "from cartopy.mpl.gridliner import LONGITUDE_FORMATTER, LATITUDE_FORMATTER\n",
    "gl = ax.gridlines(draw_labels=True)\n",
    "\n",
    "fig, ax = plt.subplots(figsize=(12, 20), subplot_kw=dict(projection=ccrs.PlateCarree()))\n",
    "ax.set_extent([-125, -60, 24, 45])\n",
    "\n",
    "# display land and coastline\n",
    "ax.add_feature(LAND)               \n",
    "\n",
    "# Do not show x labels on the top of the graph   #if don't disable, see the labels on both the top and bottom \n",
    "gl.xlabels_top = False\n",
    "\n",
    "# Do not show y labels on the right side of the graph\n",
    "gl.ylabels_right = False\n",
    "\n",
    "# Apply the lat and long formatter\n",
    "gl.xformatter = LONGITUDE_FORMATTER               \n",
    "gl.yformatter = LATITUDE_FORMATTER\n",
    "\n",
    "# State borders\n",
    "states = NaturalEarthFeature(category='cultural', scale='50m', facecolor='none',\n",
    "                             name='admin_1_states_provinces_shp') #add another shape file. Cartopy doesnt provide this. \n",
    "ax.add_feature(states, edgecolor='gray')\n",
    "\n",
    "# display the country border lines\n",
    "ax.add_feature(BORDERS)\n",
    "\n",
    "# Scatter the points using blue for males, red for females. Bottom five of each transparent. \n",
    "plt.scatter(tmlon, tmlat, label=None,\n",
    "            c='blue', s=tmobs,\n",
    "            linewidth=0)\n",
    "\n",
    "plt.scatter(bmlon, bmlat, label=None,\n",
    "            c='blue', s=bmobs,\n",
    "            linewidth=0, alpha=.5)\n",
    "\n",
    "plt.scatter(tflon, tflat, label=None,\n",
    "            c='orange', s=tfobs,\n",
    "            linewidth=0)\n",
    "\n",
    "\n",
    "plt.scatter(bflon, bflat, label=None,\n",
    "            c='orange', s=bfobs,\n",
    "            linewidth=0, alpha=.5)\n",
    "\n",
    "\n",
    "\n",
    "#s: size of bubble \n",
    "plt.xlabel('longitude')\n",
    "plt.ylabel('latitude')\n",
    "\n",
    "#set title\n",
    "plt.title('Highest and Lowest Obesity States by Gender');\n",
    "\n",
    "#make legend sizes and labels\n",
    "for obese in [20, 30, 40]:\n",
    "    plt.scatter([], [], c='k', alpha=0.3, s=obese*3,\n",
    "                label=str(obese))\n",
    "plt.legend(scatterpoints=1, frameon=False, labelspacing=1, title='Percent Obese', loc='lower right')\n"
   ]
  },
  {
   "cell_type": "markdown",
   "metadata": {},
   "source": [
    "## Now Add Hawaii "
   ]
  },
  {
   "cell_type": "code",
   "execution_count": null,
   "metadata": {},
   "outputs": [],
   "source": [
    "#Set size and gps locations\n",
    "fig, ax = plt.subplots(figsize=(10, 10), subplot_kw=dict(projection=ccrs.PlateCarree()))\n",
    "ax.set_extent([-162, -150, 18, 24])\n",
    "\n",
    "# display land and coastline\n",
    "ax.add_feature(LAND)               \n",
    "\n",
    "\n",
    "# Do not show x labels on the top of the graph   #if don't disable, see the labels on both the top and bottom \n",
    "gl.xlabels_top = False\n",
    "\n",
    "# Do not show y labels on the right side of the graph\n",
    "gl.ylabels_right = False\n",
    "\n",
    "# Apply the lat and long formatter\n",
    "gl.xformatter = LONGITUDE_FORMATTER               \n",
    "gl.yformatter = LATITUDE_FORMATTER\n",
    "\n",
    "# State borders\n",
    "states = NaturalEarthFeature(category='cultural', scale='50m', facecolor='none',\n",
    "                             name='admin_1_states_provinces_shp') #add another shape file. Cartopy doesnt provide this. \n",
    "ax.add_feature(states, edgecolor='gray')\n",
    "\n",
    "# display the country border lines\n",
    "ax.add_feature(BORDERS)\n",
    "\n",
    "# Scatter the points, using size and color but no label\n",
    "plt.scatter(bflon, bflat, label=None, c='orange', s=bfobs, linewidth=0, alpha=.5)\n",
    "\n",
    "#Set x axis label\n",
    "plt.xlabel('longitude')\n",
    "\n",
    "#Set y axis label\n",
    "plt.ylabel('latitude')\n",
    "\n",
    "#Set legend\n",
    "for i in [20,30,40]:\n",
    "    sizelabel=str(i)\n",
    "\n",
    "for obese in [20, 30, 40]:\n",
    "    plt.scatter([], [], c='k', alpha=0.3, s=obese*3,label=str(obese))\n",
    "plt.legend(scatterpoints=1, frameon=False, labelspacing=1, title='Percent Obese', loc='lower right')\n"
   ]
  },
  {
   "cell_type": "markdown",
   "metadata": {},
   "source": [
    "## RACE"
   ]
  },
  {
   "cell_type": "code",
   "execution_count": null,
   "metadata": {},
   "outputs": [],
   "source": [
    "#Set size for figure\n",
    "plt.figure(figsize=(15,10))\n",
    "\n",
    "#Set width as changeable, call on later. Many bars so needs to be small\n",
    "width=.03\n",
    "\n",
    "#Make bar chart, year on x axis, -3*width to move left to avoid overlap, obesity as y axis, label\n",
    "plt.bar(mixed.YearEnd-3*width,mixed.PCT_obs,width, label='2 or More Races')\n",
    "\n",
    "\n",
    "#Make bar chart, year on x axis, -2*width to move left to avoid overlap, obesity as y axis, label\n",
    "plt.bar(white.YearEnd-2*width,white.PCT_obs,width, label='White')\n",
    "\n",
    "\n",
    "#Make bar chart, year on x axis, -1*width to move left to avoid overlap, obesity as y axis, label\n",
    "plt.bar(black.YearEnd-width,black.PCT_obs,width, label='Black')\n",
    "\n",
    "\n",
    "#Make bar chart, year on x axis, centered to avoid overlap, obesity as y axis, label\n",
    "plt.bar(hispanic.YearEnd,hispanic.PCT_obs,width, label='Hispanic')\n",
    "\n",
    "\n",
    "#Make bar chart, year on x axis, +1*width to move left to avoid overlap, obesity as y axis, label\n",
    "plt.bar(asian.YearEnd+width,asian.PCT_obs,width, label='Asian')\n",
    "\n",
    "\n",
    "#Make bar chart, year on x axis, +2*width to move left to avoid overlap, obesity as y axis, label\n",
    "plt.bar(hawaiian.YearEnd+2*width,hawaiian.PCT_obs,width, label='Hawaiian/Pacific Islander')\n",
    "\n",
    "\n",
    "#Make bar chart, year on x axis, +3*width to move left to avoid overlap, obesity as y axis, label\n",
    "plt.bar(native.YearEnd+3*width,native.PCT_obs,width, label='Native American')\n",
    "\n",
    "#Set x axis label\n",
    "plt.xlabel('Year',fontsize=20)\n",
    "\n",
    "#Set Y axis label\n",
    "plt.ylabel('Percent of obese US Citizens',fontsize=20)\n",
    "\n",
    "#Set Title \n",
    "plt.title('Obesity of Racial Groups',fontsize=24)\n",
    "\n",
    "#Set y axis ticks\n",
    "plt.yticks(np.arange(0, 51, 5))\n",
    "\n",
    "#Set legend, location, and number of columns \n",
    "plt.legend(loc='upper right',ncol=2)"
   ]
  },
  {
   "cell_type": "code",
   "execution_count": null,
   "metadata": {},
   "outputs": [],
   "source": [
    "#Set Figure size\n",
    "fig, ax = plt.subplots(figsize=(10,8))\n",
    "\n",
    "#define bar chart of races and obesity \n",
    "rects1 = ax.bar(r.Stratification1,r.PCT_obs, width)\n",
    "\n",
    "#Set Y ticks \n",
    "plt.yticks(np.arange(0, 45, 5))\n",
    "\n",
    "#Set Width\n",
    "width = .9\n",
    "\n",
    "#Rotate x axis ticks labels to fit better\n",
    "plt.xticks(rotation=90)\n",
    "\n",
    "#Set y axis label\n",
    "plt.ylabel('Percent of US Citizens',fontsize=16)\n",
    "\n",
    "#Set x axis label\n",
    "plt.title('Obesity of Racial Groups', fontsize=18)\n"
   ]
  }
 ],
 "metadata": {
  "kernelspec": {
   "display_name": "Python 3",
   "language": "python",
   "name": "python3"
  },
  "language_info": {
   "codemirror_mode": {
    "name": "ipython",
    "version": 3
   },
   "file_extension": ".py",
   "mimetype": "text/x-python",
   "name": "python",
   "nbconvert_exporter": "python",
   "pygments_lexer": "ipython3",
   "version": "3.7.3"
  }
 },
 "nbformat": 4,
 "nbformat_minor": 2
}
